{
 "cells": [
  {
   "cell_type": "code",
   "execution_count": 1,
   "id": "8cbb6506-6be7-45bf-86db-d3322ef2f4c0",
   "metadata": {},
   "outputs": [
    {
     "name": "stdout",
     "output_type": "stream",
     "text": [
      "welcome to this python session\n"
     ]
    }
   ],
   "source": [
    "print (\"welcome to this python session\")"
   ]
  },
  {
   "cell_type": "code",
   "execution_count": 2,
   "id": "ef539001-62b6-4466-8eed-ed6b40c9e4e0",
   "metadata": {},
   "outputs": [
    {
     "data": {
      "text/plain": [
       "8"
      ]
     },
     "execution_count": 2,
     "metadata": {},
     "output_type": "execute_result"
    }
   ],
   "source": [
    "4+4"
   ]
  },
  {
   "cell_type": "markdown",
   "id": "fdc3be8a-f131-40de-bf95-9f9205163b6f",
   "metadata": {},
   "source": [
    "This is the first python session"
   ]
  },
  {
   "cell_type": "code",
   "execution_count": 1,
   "id": "0fef53a6-1be0-4ca9-8f4a-2d310d961b93",
   "metadata": {},
   "outputs": [
    {
     "name": "stdout",
     "output_type": "stream",
     "text": [
      "hello, world\n"
     ]
    }
   ],
   "source": [
    " print (\"hello, world\")"
   ]
  },
  {
   "cell_type": "code",
   "execution_count": 4,
   "id": "551a478e-1b32-403a-8ad2-e56f39bc133c",
   "metadata": {},
   "outputs": [],
   "source": [
    "my_name = \"John\""
   ]
  },
  {
   "cell_type": "code",
   "execution_count": 5,
   "id": "45bff9aa-fbde-41c3-9b99-911318830627",
   "metadata": {},
   "outputs": [
    {
     "data": {
      "text/plain": [
       "'john'"
      ]
     },
     "execution_count": 5,
     "metadata": {},
     "output_type": "execute_result"
    }
   ],
   "source": [
    "my_name"
   ]
  },
  {
   "cell_type": "code",
   "execution_count": 6,
   "id": "44043310-5de0-44be-9845-6206a7f3efc8",
   "metadata": {},
   "outputs": [
    {
     "name": "stdout",
     "output_type": "stream",
     "text": [
      "3.14\n"
     ]
    }
   ],
   "source": [
    "print(3.14)"
   ]
  },
  {
   "cell_type": "code",
   "execution_count": 9,
   "id": "cd7fbf37-f46b-43e0-955b-332b39076072",
   "metadata": {},
   "outputs": [],
   "source": [
    "my_bool = True"
   ]
  },
  {
   "cell_type": "code",
   "execution_count": 10,
   "id": "d9265e1d-abdd-4491-aae1-5986ae81cbd8",
   "metadata": {},
   "outputs": [
    {
     "data": {
      "text/plain": [
       "True"
      ]
     },
     "execution_count": 10,
     "metadata": {},
     "output_type": "execute_result"
    }
   ],
   "source": [
    "my_bool"
   ]
  },
  {
   "cell_type": "code",
   "execution_count": 11,
   "id": "34cf9650-c4bd-4a9f-bf86-19d61e9077c1",
   "metadata": {},
   "outputs": [
    {
     "data": {
      "text/plain": [
       "8"
      ]
     },
     "execution_count": 11,
     "metadata": {},
     "output_type": "execute_result"
    }
   ],
   "source": [
    "5+3"
   ]
  },
  {
   "cell_type": "code",
   "execution_count": 12,
   "id": "793ffd23-7174-4c19-a313-4812ca87f50d",
   "metadata": {},
   "outputs": [
    {
     "data": {
      "text/plain": [
       "2.0"
      ]
     },
     "execution_count": 12,
     "metadata": {},
     "output_type": "execute_result"
    }
   ],
   "source": [
    "8/4"
   ]
  },
  {
   "cell_type": "code",
   "execution_count": 13,
   "id": "ae751ea5-be50-4480-9e98-3983fdcabde4",
   "metadata": {},
   "outputs": [
    {
     "data": {
      "text/plain": [
       "8"
      ]
     },
     "execution_count": 13,
     "metadata": {},
     "output_type": "execute_result"
    }
   ],
   "source": [
    "2**3"
   ]
  },
  {
   "cell_type": "code",
   "execution_count": 19,
   "id": "d10171c1-ff77-479b-89b7-c0c324c8560f",
   "metadata": {},
   "outputs": [
    {
     "data": {
      "text/plain": [
       "19"
      ]
     },
     "execution_count": 19,
     "metadata": {},
     "output_type": "execute_result"
    }
   ],
   "source": [
    "max(5, 19)"
   ]
  },
  {
   "cell_type": "code",
   "execution_count": 16,
   "id": "28c7544f-f912-4f87-8ec1-9100c408a1f6",
   "metadata": {},
   "outputs": [],
   "source": [
    "my_name = \"John\"\n",
    "greetings = \"Hello\"\n",
    "message = greetings + \" \" + my_name"
   ]
  },
  {
   "cell_type": "code",
   "execution_count": 17,
   "id": "efe0d26b-1efb-420e-95f3-9a6de48e35a2",
   "metadata": {},
   "outputs": [
    {
     "name": "stdout",
     "output_type": "stream",
     "text": [
      "Hello John\n"
     ]
    }
   ],
   "source": [
    "print(message)"
   ]
  },
  {
   "cell_type": "code",
   "execution_count": 18,
   "id": "3dd53fb6-93f9-4ade-947f-2e6a6349010d",
   "metadata": {},
   "outputs": [
    {
     "data": {
      "text/plain": [
       "4"
      ]
     },
     "execution_count": 18,
     "metadata": {},
     "output_type": "execute_result"
    }
   ],
   "source": [
    "len(my_name)"
   ]
  },
  {
   "cell_type": "code",
   "execution_count": 20,
   "id": "83eafa2f-7a6f-43df-97f7-90cd2f345bac",
   "metadata": {},
   "outputs": [],
   "source": [
    "fruit = [\"apple\", \"cherry\", \"banana\", \"orange\"]"
   ]
  },
  {
   "cell_type": "code",
   "execution_count": 21,
   "id": "6aa93512-dcdf-4012-8b19-6e18a9517627",
   "metadata": {},
   "outputs": [
    {
     "data": {
      "text/plain": [
       "list"
      ]
     },
     "execution_count": 21,
     "metadata": {},
     "output_type": "execute_result"
    }
   ],
   "source": [
    "type(fruit)"
   ]
  },
  {
   "cell_type": "code",
   "execution_count": 28,
   "id": "4d0cb03a-1773-44e0-b021-fdd87deb00db",
   "metadata": {},
   "outputs": [],
   "source": [
    "cars = [\"taxi\", \"bus\", \"truck\"]"
   ]
  },
  {
   "cell_type": "code",
   "execution_count": 30,
   "id": "57e6b2f9-62fc-43ec-8667-536a5caf8b37",
   "metadata": {},
   "outputs": [],
   "source": [
    "nest = [\"taxi\", \"bus\", \"truck\"], [\"taxi\", \"bus\", \"truck\"], [\"taxi\", \"bus\", \"truck\"]"
   ]
  },
  {
   "cell_type": "code",
   "execution_count": 32,
   "id": "85360256-2afc-4f0d-8177-5c2c931725b1",
   "metadata": {},
   "outputs": [
    {
     "data": {
      "text/plain": [
       "'banana'"
      ]
     },
     "execution_count": 32,
     "metadata": {},
     "output_type": "execute_result"
    }
   ],
   "source": [
    "fruit[2]"
   ]
  },
  {
   "cell_type": "code",
   "execution_count": 33,
   "id": "ee6631a5-6338-4fdc-879e-65daac87ce1d",
   "metadata": {},
   "outputs": [],
   "source": [
    "fruit.append(\"coconut\")"
   ]
  },
  {
   "cell_type": "code",
   "execution_count": 34,
   "id": "bc8ac724-444f-421c-becc-4840ed31ec32",
   "metadata": {},
   "outputs": [
    {
     "data": {
      "text/plain": [
       "['apple', 'cherry', 'banana', 'orange', 'coconut']"
      ]
     },
     "execution_count": 34,
     "metadata": {},
     "output_type": "execute_result"
    }
   ],
   "source": [
    "fruit"
   ]
  },
  {
   "cell_type": "code",
   "execution_count": 35,
   "id": "21eea102-e453-4075-a52f-5265d1d7195a",
   "metadata": {},
   "outputs": [],
   "source": [
    "fruit.extend(cars)"
   ]
  },
  {
   "cell_type": "code",
   "execution_count": 36,
   "id": "c4052dac-86af-46d2-b90e-1c72f317918d",
   "metadata": {},
   "outputs": [
    {
     "data": {
      "text/plain": [
       "['apple', 'cherry', 'banana', 'orange', 'coconut', 'taxi', 'bus', 'truck']"
      ]
     },
     "execution_count": 36,
     "metadata": {},
     "output_type": "execute_result"
    }
   ],
   "source": [
    "fruit"
   ]
  },
  {
   "cell_type": "code",
   "execution_count": 37,
   "id": "5ef6129e-84f5-407d-b30c-ec336792788b",
   "metadata": {},
   "outputs": [],
   "source": [
    "fruit.sort()"
   ]
  },
  {
   "cell_type": "code",
   "execution_count": 38,
   "id": "5886cd75-d6bf-4149-96d5-b212b1c63fe9",
   "metadata": {},
   "outputs": [
    {
     "data": {
      "text/plain": [
       "['apple', 'banana', 'bus', 'cherry', 'coconut', 'orange', 'taxi', 'truck']"
      ]
     },
     "execution_count": 38,
     "metadata": {},
     "output_type": "execute_result"
    }
   ],
   "source": [
    "fruit"
   ]
  },
  {
   "cell_type": "code",
   "execution_count": 46,
   "id": "608a9d84-82e9-4522-94e7-3bed1c5480d2",
   "metadata": {},
   "outputs": [
    {
     "data": {
      "text/plain": [
       "['apple', 'banana', 'cab', 'cherry', 'coconut', 'orange', 'taxi', 'truck']"
      ]
     },
     "execution_count": 46,
     "metadata": {},
     "output_type": "execute_result"
    }
   ],
   "source": [
    "fruit[2] = \"cab\"\n",
    "fruit"
   ]
  },
  {
   "cell_type": "code",
   "execution_count": 47,
   "id": "261124c0-f7dc-46a8-a087-6a678409fd30",
   "metadata": {},
   "outputs": [
    {
     "data": {
      "text/plain": [
       "['apple', 'banana', 'cab', 'cherry', 'coconut', 'orange', 'taxi']"
      ]
     },
     "execution_count": 47,
     "metadata": {},
     "output_type": "execute_result"
    }
   ],
   "source": [
    "fruit.pop()\n",
    "fruit"
   ]
  },
  {
   "cell_type": "code",
   "execution_count": 39,
   "id": "71b4859d-b7f8-4eaf-a41e-36b8d2810de0",
   "metadata": {},
   "outputs": [],
   "source": [
    "my_turple = (3, 4)"
   ]
  },
  {
   "cell_type": "code",
   "execution_count": 40,
   "id": "8ebcb7d3-d96a-4983-9fe9-bcb2fc594fa3",
   "metadata": {},
   "outputs": [
    {
     "data": {
      "text/plain": [
       "4"
      ]
     },
     "execution_count": 40,
     "metadata": {},
     "output_type": "execute_result"
    }
   ],
   "source": [
    "my_turple[1]"
   ]
  },
  {
   "cell_type": "code",
   "execution_count": 59,
   "id": "7a8c5dd4-0afe-4104-87c6-17992ed68aae",
   "metadata": {},
   "outputs": [
    {
     "ename": "TypeError",
     "evalue": "'tuple' object does not support item assignment",
     "output_type": "error",
     "traceback": [
      "\u001b[31m---------------------------------------------------------------------------\u001b[39m",
      "\u001b[31mTypeError\u001b[39m                                 Traceback (most recent call last)",
      "\u001b[36mCell\u001b[39m\u001b[36m \u001b[39m\u001b[32mIn[59]\u001b[39m\u001b[32m, line 1\u001b[39m\n\u001b[32m----> \u001b[39m\u001b[32m1\u001b[39m \u001b[43mmy_turple\u001b[49m\u001b[43m[\u001b[49m\u001b[32;43m1\u001b[39;49m\u001b[43m]\u001b[49m = \u001b[38;5;28;01mTrue\u001b[39;00m\n",
      "\u001b[31mTypeError\u001b[39m: 'tuple' object does not support item assignment"
     ]
    }
   ],
   "source": [
    "my_turple[1] = True"
   ]
  },
  {
   "cell_type": "code",
   "execution_count": 69,
   "id": "16684892-9d4b-4b4c-8904-48b94f908cc0",
   "metadata": {},
   "outputs": [],
   "source": [
    "my_dict = {\"name\":\"John\", \"age\":55, \"sex\":\"male\"}"
   ]
  },
  {
   "cell_type": "code",
   "execution_count": 75,
   "id": "ceda938b-871e-4050-b55a-9aa122cc1985",
   "metadata": {},
   "outputs": [
    {
     "data": {
      "text/plain": [
       "'John'"
      ]
     },
     "execution_count": 75,
     "metadata": {},
     "output_type": "execute_result"
    }
   ],
   "source": [
    "my_dict[\"name\"]"
   ]
  },
  {
   "cell_type": "code",
   "execution_count": 77,
   "id": "f63247e6-4fa4-47db-b488-d649afb7c3c2",
   "metadata": {},
   "outputs": [
    {
     "data": {
      "text/plain": [
       "dict_keys(['name', 'age', 'sex'])"
      ]
     },
     "execution_count": 77,
     "metadata": {},
     "output_type": "execute_result"
    }
   ],
   "source": [
    "my_dict.keys()"
   ]
  },
  {
   "cell_type": "code",
   "execution_count": null,
   "id": "7512e5aa-53fa-4e09-a5c9-681861d2deea",
   "metadata": {},
   "outputs": [],
   "source": []
  },
  {
   "cell_type": "code",
   "execution_count": null,
   "id": "0b90efde-af26-492d-88d3-1aba9a855c05",
   "metadata": {},
   "outputs": [],
   "source": []
  }
 ],
 "metadata": {
  "kernelspec": {
   "display_name": "Python 3 (ipykernel)",
   "language": "python",
   "name": "python3"
  },
  "language_info": {
   "codemirror_mode": {
    "name": "ipython",
    "version": 3
   },
   "file_extension": ".py",
   "mimetype": "text/x-python",
   "name": "python",
   "nbconvert_exporter": "python",
   "pygments_lexer": "ipython3",
   "version": "3.13.5"
  }
 },
 "nbformat": 4,
 "nbformat_minor": 5
}
